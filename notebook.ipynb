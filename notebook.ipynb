{
 "cells": [
  {
   "cell_type": "code",
   "execution_count": 1,
   "metadata": {},
   "outputs": [],
   "source": [
    "import torch\n",
    "import torch.nn as nn\n",
    "import torch.nn.functional as F"
   ]
  },
  {
   "cell_type": "code",
   "execution_count": 2,
   "metadata": {},
   "outputs": [],
   "source": [
    "from torchvision.models.resnet import ResNet, BasicBlock"
   ]
  },
  {
   "cell_type": "code",
   "execution_count": 28,
   "metadata": {},
   "outputs": [],
   "source": [
    "class CheckpointABNFN(torch.autograd.Function):\n",
    "    # from: http://cthorey.github.io./backpropagation/\n",
    "\n",
    "    @staticmethod\n",
    "    def forward(ctx, x, gamma, beta):\n",
    "\n",
    "        mu = x.mean(dim=(0, 2, 3), keepdim=True)\n",
    "        var = ((x - mu) ** 2).mean(dim=(0, 2, 3), keepdim=True)\n",
    "\n",
    "        xhat = (x - mu) / torch.sqrt(var + 1e-5)\n",
    "\n",
    "        bn_out = gamma * xhat + beta\n",
    "\n",
    "        out = bn_out.clamp(min=0)\n",
    "\n",
    "        # ctx.save_for_backward(x, gamma, bn_out)\n",
    "        ctx.save_for_backward(x, gamma, beta)\n",
    "\n",
    "        return out\n",
    "\n",
    "    @staticmethod\n",
    "    def backward(ctx, dout):\n",
    "        # x, gamma, bn_out = ctx.saved_tensors\n",
    "        x, gamma, beta = ctx.saved_tensors\n",
    "        dx = dgamma = dbeta = None\n",
    "\n",
    "        mu = x.mean(dim=(0, 2, 3), keepdim=True)\n",
    "        var = ((x - mu) ** 2).mean(dim=(0, 2, 3), keepdim=True)\n",
    "\n",
    "        xhat = (x - mu) / torch.sqrt(var + 1e-5)\n",
    "\n",
    "        bn_out = gamma * xhat + beta\n",
    "\n",
    "        dout = dout * (bn_out > 0)\n",
    "\n",
    "        N = dout.shape[0] * dout.shape[2] * dout.shape[3]\n",
    "\n",
    "        dbeta = dout.sum(dim=(0, 2, 3), keepdim=True)\n",
    "\n",
    "        dgamma = torch.sum(((x - mu) / torch.sqrt(var + 1e-5))\n",
    "                           * dout, dim=(0, 2, 3), keepdim=True)\n",
    "\n",
    "        dx = (1.0 / N) * gamma * (1.0 / torch.sqrt(var + 1e-5)) * (N * dout - torch.sum(dout, dim=(0, 2, 3),\n",
    "                                                                                        keepdim=True) - ((x - mu) * ((var + 1e-5) ** -1.0) * torch.sum(dout * (x - mu), dim=(0, 2, 3), keepdim=True)))\n",
    "\n",
    "        return dx, dgamma, dbeta"
   ]
  },
  {
   "cell_type": "code",
   "execution_count": 29,
   "metadata": {},
   "outputs": [],
   "source": [
    "bn = CheckpointABNFN.apply"
   ]
  },
  {
   "cell_type": "code",
   "execution_count": 30,
   "metadata": {},
   "outputs": [],
   "source": [
    "x = torch.rand((1, 2, 4, 4), requires_grad=True)\n",
    "gamma = torch.ones((1, 2, 1, 1), requires_grad=True)\n",
    "beta = torch.zeros((1, 2, 1, 1), requires_grad=True)"
   ]
  },
  {
   "cell_type": "code",
   "execution_count": 31,
   "metadata": {
    "tags": []
   },
   "outputs": [],
   "source": [
    "out = bn(x, gamma, beta)"
   ]
  },
  {
   "cell_type": "code",
   "execution_count": 32,
   "metadata": {
    "tags": []
   },
   "outputs": [],
   "source": [
    "temp = out.sum()\n",
    "temp.backward()"
   ]
  },
  {
   "cell_type": "code",
   "execution_count": 33,
   "metadata": {},
   "outputs": [
    {
     "output_type": "execute_result",
     "data": {
      "text/plain": "(tensor(0.5034, grad_fn=<MeanBackward0>),\n tensor(0.0732, grad_fn=<VarBackward0>))"
     },
     "metadata": {},
     "execution_count": 33
    }
   ],
   "source": [
    "x.mean(), x.var()"
   ]
  },
  {
   "cell_type": "code",
   "execution_count": 34,
   "metadata": {},
   "outputs": [
    {
     "output_type": "execute_result",
     "data": {
      "text/plain": "(tensor(0.4292, grad_fn=<MeanBackward0>),\n tensor(0.2602, grad_fn=<VarBackward0>))"
     },
     "metadata": {},
     "execution_count": 34
    }
   ],
   "source": [
    "out.mean(), out.var()"
   ]
  },
  {
   "cell_type": "code",
   "execution_count": 35,
   "metadata": {
    "tags": []
   },
   "outputs": [
    {
     "output_type": "stream",
     "name": "stdout",
     "text": "True\n"
    }
   ],
   "source": [
    "from torch.autograd import gradcheck\n",
    "\n",
    "x = torch.rand((1, 2, 4, 4), dtype=torch.double, requires_grad=True)\n",
    "gamma = torch.ones((1, 2, 1, 1), dtype=torch.double, requires_grad=True)\n",
    "beta = torch.zeros((1, 2, 1, 1), dtype=torch.double, requires_grad=True)\n",
    "\n",
    "input = (x, gamma, beta)\n",
    "test = gradcheck(bn, input, eps=1e-6, atol=1e-4)\n",
    "print(test)"
   ]
  },
  {
   "cell_type": "code",
   "execution_count": 19,
   "metadata": {},
   "outputs": [
    {
     "output_type": "error",
     "ename": "NameError",
     "evalue": "name 'ActivatedBatchNormAutograd' is not defined",
     "traceback": [
      "\u001b[0;31m---------------------------------------------------------------------------\u001b[0m",
      "\u001b[0;31mNameError\u001b[0m                                 Traceback (most recent call last)",
      "\u001b[0;32m<ipython-input-19-23650e19b6b4>\u001b[0m in \u001b[0;36m<module>\u001b[0;34m\u001b[0m\n\u001b[0;32m----> 1\u001b[0;31m \u001b[0mmod\u001b[0m \u001b[0;34m=\u001b[0m \u001b[0mActivatedBatchNormAutograd\u001b[0m\u001b[0;34m(\u001b[0m\u001b[0;36m2\u001b[0m\u001b[0;34m)\u001b[0m\u001b[0;34m\u001b[0m\u001b[0;34m\u001b[0m\u001b[0m\n\u001b[0m",
      "\u001b[0;31mNameError\u001b[0m: name 'ActivatedBatchNormAutograd' is not defined"
     ]
    }
   ],
   "source": [
    "mod = ActivatedBatchNormAutograd(2)"
   ]
  },
  {
   "cell_type": "code",
   "execution_count": null,
   "metadata": {},
   "outputs": [],
   "source": [
    "x = torch.rand((1, 2, 4, 4), dtype=torch.double, requires_grad=True)"
   ]
  },
  {
   "cell_type": "code",
   "execution_count": null,
   "metadata": {},
   "outputs": [],
   "source": [
    "out = mod(x)"
   ]
  },
  {
   "cell_type": "code",
   "execution_count": null,
   "metadata": {},
   "outputs": [],
   "source": [
    "out.mean(), out.var()"
   ]
  },
  {
   "cell_type": "code",
   "execution_count": null,
   "metadata": {},
   "outputs": [],
   "source": []
  }
 ],
 "metadata": {
  "language_info": {
   "codemirror_mode": {
    "name": "ipython",
    "version": 3
   },
   "file_extension": ".py",
   "mimetype": "text/x-python",
   "name": "python",
   "nbconvert_exporter": "python",
   "pygments_lexer": "ipython3",
   "version": "3.7.5-final"
  },
  "orig_nbformat": 2,
  "kernelspec": {
   "name": "python3",
   "display_name": "Python 3"
  }
 },
 "nbformat": 4,
 "nbformat_minor": 2
}