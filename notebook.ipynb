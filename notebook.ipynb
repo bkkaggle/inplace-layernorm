{
 "cells": [
  {
   "cell_type": "code",
   "execution_count": null,
   "metadata": {},
   "outputs": [],
   "source": [
    "import torch\n",
    "import torch.nn as nn\n",
    "import torch.nn.functional as F"
   ]
  },
  {
   "cell_type": "code",
   "execution_count": 125,
   "metadata": {},
   "outputs": [],
   "source": [
    "from torchvision.models.resnet import ResNet, BasicBlock"
   ]
  },
  {
   "cell_type": "code",
   "execution_count": 127,
   "metadata": {},
   "outputs": [],
   "source": [
    "class CheckpointBNFN(torch.autograd.Function):\n",
    "\n",
    "    @staticmethod\n",
    "    def forward(ctx, x, gamma, beta):\n",
    "\n",
    "        mu = x.mean(dim=(0, 2, 3), keepdim=True)\n",
    "\n",
    "        xmu = x - mu\n",
    "        sq = xmu ** 2\n",
    "\n",
    "        var = sq.mean(dim=(0, 2, 3), keepdim=True)\n",
    "\n",
    "        sqrtvar = torch.sqrt(var + 1e-5)\n",
    "\n",
    "        ivar = 1.0 / sqrtvar\n",
    "\n",
    "        xhat = xmu * ivar\n",
    "\n",
    "        gammax = gamma * xhat\n",
    "\n",
    "        bn_out = gammax + beta\n",
    "\n",
    "        # ctx.save_for_backward(xhat, gamma, xmu, ivar, sqrtvar, var, bn_out)\n",
    "        ctx.save_for_backward(x, gamma, beta)\n",
    "\n",
    "        return bn_out\n",
    "\n",
    "    @staticmethod\n",
    "    def backward(ctx, dout):\n",
    "        # xhat, gamma, xmu, ivar, sqrtvar, var, bn_out = ctx.saved_tensors\n",
    "        x, gamma, beta = ctx.saved_tensors\n",
    "\n",
    "        # recompute\n",
    "        mu = x.mean(dim=(0, 2, 3), keepdim=True)\n",
    "\n",
    "        xmu = x - mu\n",
    "        sq = xmu ** 2\n",
    "\n",
    "        var = sq.mean(dim=(0, 2, 3), keepdim=True)\n",
    "\n",
    "        sqrtvar = torch.sqrt(var + 1e-5)\n",
    "\n",
    "        ivar = 1.0 / sqrtvar\n",
    "\n",
    "        xhat = xmu * ivar\n",
    "\n",
    "        gammax = gamma * xhat\n",
    "\n",
    "        bn_out = gammax + beta\n",
    "\n",
    "        # backwards pass\n",
    "\n",
    "        dx = dgamma = dbeta = None\n",
    "\n",
    "        dbeta = dout.sum(dim=(0, 2, 3), keepdim=True)\n",
    "\n",
    "        dgammax = dout\n",
    "\n",
    "        dgamma = torch.sum(dgammax * xhat, dim=(0, 2, 3), keepdim=True)\n",
    "        dxhat = dgammax * gamma\n",
    "\n",
    "        divar = torch.sum(dxhat * xmu, dim=(0, 2, 3), keepdim=True)\n",
    "        dxmu1 = dxhat * ivar\n",
    "\n",
    "        dsqrtvar = -1.0 / (sqrtvar ** 2) * divar\n",
    "\n",
    "        dvar = 0.5 * 1.0 / torch.sqrt(var + 1e-5) * dsqrtvar\n",
    "\n",
    "        dsq = 1.0 / (dout.shape[0] * dout.shape[2] *\n",
    "                     dout.shape[3]) * torch.ones_like(dout) * dvar\n",
    "\n",
    "        dxmu2 = 2.0 * xmu * dsq\n",
    "\n",
    "        dx1 = dxmu1 + dxmu2\n",
    "        dmu = -1.0 * torch.sum(dxmu1 + dxmu2, dim=(0, 2, 3), keepdim=True)\n",
    "\n",
    "        dx2 = 1.0 / (dout.shape[0] * dout.shape[2] *\n",
    "                     dout.shape[3]) * torch.ones_like(dout) * dmu\n",
    "\n",
    "        dx = dx1 + dx2\n",
    "\n",
    "        return dx, dgamma, dbeta"
   ]
  },
  {
   "cell_type": "code",
   "execution_count": 128,
   "metadata": {},
   "outputs": [],
   "source": [
    "class CheckpointBN(nn.Module):\n",
    "    def __init__(self, num_features):\n",
    "        super(CheckpointBN, self).__init__()\n",
    "\n",
    "        shape = (1, num_features, 1, 1)\n",
    "\n",
    "        self.gamma = nn.Parameter(torch.ones(shape))\n",
    "        self.beta = nn.Parameter(torch.zeros(shape))\n",
    "\n",
    "        device = torch.device(\n",
    "            \"cuda:0\" if torch.cuda.is_available() else \"cpu\")\n",
    "\n",
    "        self.moving_mean = torch.zeros(shape, device=device)\n",
    "        self.moving_var = torch.zeros(shape, device=device)\n",
    "\n",
    "    def forward(self, x):\n",
    "        if not torch.is_grad_enabled():\n",
    "            out = (x - self.moving_mean) / torch.sqrt(self.moving_var + 1e-5)\n",
    "            out = self.gamma * out + self.beta\n",
    "        else:\n",
    "\n",
    "            out = CheckpointBNFN.apply(x, self.gamma, self.beta)\n",
    "\n",
    "            with torch.no_grad():\n",
    "                mean = x.mean(dim=(0, 2, 3), keepdim=True)\n",
    "                var = ((x - mean) ** 2).mean(dim=(0, 2, 3), keepdim=True)\n",
    "\n",
    "                self.moving_mean = 0.9 * self.moving_mean + (1 - 0.9) * mean\n",
    "                self.moving_var = 0.9 * self.moving_var + (1 - 0.9) * var\n",
    "\n",
    "        return out"
   ]
  },
  {
   "cell_type": "code",
   "execution_count": 136,
   "metadata": {},
   "outputs": [],
   "source": [
    "from torchvision import datasets, transforms"
   ]
  },
  {
   "cell_type": "code",
   "execution_count": 138,
   "metadata": {},
   "outputs": [],
   "source": [
    "    train_dataloader = torch.utils.data.DataLoader(\n",
    "        datasets.MNIST('./data', train=True, download=True,\n",
    "                       transform=transforms.Compose([\n",
    "                           transforms.ToTensor(),\n",
    "                           transforms.Normalize((0.1307,), (0.3081,)),\n",
    "                           transforms.Lambda(\n",
    "                               lambda x: torch.cat([x, x, x], dim=0))\n",
    "                       ])),\n",
    "        batch_size=16, shuffle=True)"
   ]
  },
  {
   "cell_type": "code",
   "execution_count": 141,
   "metadata": {
    "tags": []
   },
   "outputs": [
    {
     "output_type": "stream",
     "name": "stdout",
     "text": "torch.Size([16, 3, 28, 28])\ntorch.Size([16])\n"
    }
   ],
   "source": [
    "for img, label in train_dataloader:\n",
    "    print(img.shape)\n",
    "    print(label.shape)\n",
    "    break"
   ]
  },
  {
   "cell_type": "code",
   "execution_count": 129,
   "metadata": {},
   "outputs": [],
   "source": [
    "model = ResNet(BasicBlock, [2, 2, 2, 2], num_classes=10, norm_layer=CheckpointBN)"
   ]
  },
  {
   "cell_type": "code",
   "execution_count": 132,
   "metadata": {},
   "outputs": [],
   "source": [
    "x = torch.rand((2, 3, 28, 28), requires_grad=True)"
   ]
  },
  {
   "cell_type": "code",
   "execution_count": 133,
   "metadata": {},
   "outputs": [],
   "source": [
    "out = model(x)"
   ]
  },
  {
   "cell_type": "code",
   "execution_count": 134,
   "metadata": {},
   "outputs": [
    {
     "output_type": "execute_result",
     "data": {
      "text/plain": "torch.Size([2, 10])"
     },
     "metadata": {},
     "execution_count": 134
    }
   ],
   "source": [
    "out.shape"
   ]
  },
  {
   "cell_type": "code",
   "execution_count": 115,
   "metadata": {},
   "outputs": [],
   "source": [
    "bn = CheckpointABNFN.apply"
   ]
  },
  {
   "cell_type": "code",
   "execution_count": 116,
   "metadata": {},
   "outputs": [],
   "source": [
    "x = torch.rand((1, 2, 4, 4), requires_grad=True)\n",
    "gamma = torch.ones((1, 2, 1, 1), requires_grad=True)\n",
    "beta = torch.zeros((1, 2, 1, 1), requires_grad=True)"
   ]
  },
  {
   "cell_type": "code",
   "execution_count": 117,
   "metadata": {
    "tags": []
   },
   "outputs": [],
   "source": [
    "out = bn(x, gamma, beta)"
   ]
  },
  {
   "cell_type": "code",
   "execution_count": 118,
   "metadata": {
    "tags": []
   },
   "outputs": [],
   "source": [
    "temp = out.sum()\n",
    "temp.backward()"
   ]
  },
  {
   "cell_type": "code",
   "execution_count": 119,
   "metadata": {},
   "outputs": [
    {
     "output_type": "execute_result",
     "data": {
      "text/plain": "(tensor(0.3716, grad_fn=<MeanBackward0>),\n tensor(0.0811, grad_fn=<VarBackward0>))"
     },
     "metadata": {},
     "execution_count": 119
    }
   ],
   "source": [
    "x.mean(), x.var()"
   ]
  },
  {
   "cell_type": "code",
   "execution_count": 120,
   "metadata": {},
   "outputs": [
    {
     "output_type": "execute_result",
     "data": {
      "text/plain": "(tensor(0.3954, grad_fn=<MeanBackward0>),\n tensor(0.4804, grad_fn=<VarBackward0>))"
     },
     "metadata": {},
     "execution_count": 120
    }
   ],
   "source": [
    "out.mean(), out.var()"
   ]
  },
  {
   "cell_type": "code",
   "execution_count": 121,
   "metadata": {
    "tags": []
   },
   "outputs": [
    {
     "output_type": "stream",
     "name": "stdout",
     "text": "True\n"
    }
   ],
   "source": [
    "from torch.autograd import gradcheck\n",
    "\n",
    "x = torch.rand((1, 2, 4, 4), dtype=torch.double, requires_grad=True)\n",
    "gamma = torch.ones((1, 2, 1, 1), dtype=torch.double, requires_grad=True)\n",
    "beta = torch.zeros((1, 2, 1, 1), dtype=torch.double, requires_grad=True)\n",
    "\n",
    "input = (x, gamma, beta)\n",
    "test = gradcheck(bn, input, eps=1e-6, atol=1e-4)\n",
    "print(test)"
   ]
  },
  {
   "cell_type": "code",
   "execution_count": 122,
   "metadata": {},
   "outputs": [],
   "source": [
    "mod = ActivatedBatchNormAutograd(2)"
   ]
  },
  {
   "cell_type": "code",
   "execution_count": 99,
   "metadata": {},
   "outputs": [],
   "source": [
    "x = torch.rand((1, 2, 4, 4), dtype=torch.double, requires_grad=True)"
   ]
  },
  {
   "cell_type": "code",
   "execution_count": 100,
   "metadata": {},
   "outputs": [],
   "source": [
    "out = mod(x)"
   ]
  },
  {
   "cell_type": "code",
   "execution_count": 102,
   "metadata": {},
   "outputs": [
    {
     "output_type": "execute_result",
     "data": {
      "text/plain": "(tensor(0.4186, dtype=torch.float64, grad_fn=<MeanBackward0>),\n tensor(0.2750, dtype=torch.float64, grad_fn=<VarBackward0>))"
     },
     "metadata": {},
     "execution_count": 102
    }
   ],
   "source": [
    "out.mean(), out.var()"
   ]
  },
  {
   "cell_type": "code",
   "execution_count": null,
   "metadata": {},
   "outputs": [],
   "source": []
  }
 ],
 "metadata": {
  "language_info": {
   "codemirror_mode": {
    "name": "ipython",
    "version": 3
   },
   "file_extension": ".py",
   "mimetype": "text/x-python",
   "name": "python",
   "nbconvert_exporter": "python",
   "pygments_lexer": "ipython3",
   "version": "3.7.5-final"
  },
  "orig_nbformat": 2,
  "kernelspec": {
   "name": "python3",
   "display_name": "Python 3"
  }
 },
 "nbformat": 4,
 "nbformat_minor": 2
}