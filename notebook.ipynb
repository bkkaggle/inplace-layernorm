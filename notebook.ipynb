{
 "cells": [
  {
   "cell_type": "code",
   "execution_count": 18,
   "metadata": {},
   "outputs": [],
   "source": [
    "import os\n",
    "import pickle\n",
    "import argparse\n",
    "import time\n",
    "import glob\n",
    "import math\n",
    "\n",
    "import numpy as np\n",
    "from tqdm import tqdm\n",
    "\n",
    "import torch\n",
    "import torch.nn as nn\n",
    "import torch.nn.functional as F\n",
    "\n",
    "import wandb\n",
    "\n",
    "\n",
    "class BnModel(torch.nn.Module):\n",
    "    def __init__(self):\n",
    "        super().__init__()\n",
    "\n",
    "        self.conv1 = nn.Conv2d(1, 16, kernel_size=3)\n",
    "        self.bn1 = nn.BatchNorm2d(16)\n",
    "        self.relu1 = nn.ReLU()\n",
    "        self.pool1 = nn.MaxPool2d((2, 2), 2)\n",
    "\n",
    "        self.conv2 = nn.Conv2d(16, 32, kernel_size=3)\n",
    "        self.bn2 = nn.BatchNorm2d(32)\n",
    "        self.relu2 = nn.ReLU()\n",
    "        self.pool2 = nn.MaxPool2d((2, 2), 2)\n",
    "\n",
    "        self.conv3 = nn.Conv2d(32, 64, kernel_size=3)\n",
    "        self.bn3 = nn.BatchNorm2d(64)\n",
    "        self.relu3 = nn.ReLU()\n",
    "        self.pool3 = nn.MaxPool2d((2, 2), 2)\n",
    "\n",
    "        self.linear = nn.Linear(800, 10)\n",
    "\n",
    "    def forward(self, x):\n",
    "        x = self.conv1(x)\n",
    "        x = self.bn1(x)\n",
    "        x = self.relu1(x)\n",
    "        x = self.pool1(x)\n",
    "\n",
    "        x = self.conv2(x)\n",
    "        x = self.bn2(x)\n",
    "        x = self.relu2(x)\n",
    "        x = self.pool2(x)\n",
    "\n",
    "        x = self.conv3(x)\n",
    "        x = self.bn3(x)\n",
    "        x = self.relu3(x)\n",
    "        x = self.pool3(x)\n",
    "\n",
    "        x = x.view(x.shape[0], -1)\n",
    "\n",
    "        x = self.linear(x)\n",
    "\n",
    "        return x"
   ]
  },
  {
   "cell_type": "code",
   "execution_count": null,
   "metadata": {},
   "outputs": [],
   "source": [
    "from torchvision import datasets, transforms"
   ]
  },
  {
   "cell_type": "code",
   "execution_count": null,
   "metadata": {
    "tags": []
   },
   "outputs": [],
   "source": [
    "train_loader = torch.utils.data.DataLoader(\n",
    "    datasets.MNIST('./data', train=True, download=True,\n",
    "                    transform=transforms.Compose([\n",
    "                        transforms.ToTensor(),\n",
    "                        transforms.Normalize((0.1307,), (0.3081,))\n",
    "                    ])),\n",
    "    batch_size=16, shuffle=True)\n",
    "test_loader = torch.utils.data.DataLoader(\n",
    "    datasets.MNIST('./data', train=False, transform=transforms.Compose([\n",
    "                        transforms.ToTensor(),\n",
    "                        transforms.Normalize((0.1307,), (0.3081,))\n",
    "                    ])),\n",
    "    batch_size=16, shuffle=True)"
   ]
  },
  {
   "cell_type": "code",
   "execution_count": 19,
   "metadata": {},
   "outputs": [],
   "source": [
    "model = BnModel()"
   ]
  },
  {
   "cell_type": "code",
   "execution_count": 20,
   "metadata": {},
   "outputs": [
    {
     "output_type": "execute_result",
     "data": {
      "text/plain": "tensor([[ 1.6677, -0.6971,  0.8865, -0.7557, -0.4095,  0.0749, -0.4439, -0.7791,\n         -0.1379,  0.6308],\n        [ 1.2749, -0.5110,  0.0318, -0.6762,  0.0443,  0.0099, -0.6583, -0.1688,\n         -0.0811, -0.8272],\n        [ 0.6621, -0.3624, -0.4092, -0.6143, -0.0137, -0.3406, -0.4109, -0.9980,\n          0.4365,  0.2887],\n        [ 0.7273, -1.0744, -0.0892, -0.9806, -0.2492, -0.5900, -0.1294,  0.2931,\n         -0.0916, -0.2543],\n        [ 1.7217, -0.7580,  0.1072, -0.3150, -1.0767, -0.9710, -0.3666,  0.3251,\n         -0.7251,  0.4477],\n        [ 1.3920, -1.2116, -0.0640, -0.8764, -0.7541,  0.2285, -0.6057, -0.2635,\n         -0.7584,  0.8313],\n        [ 0.8907, -0.5653,  0.5109, -0.2593, -0.7790, -0.0075, -0.8630,  0.2548,\n         -0.0629,  0.2575],\n        [ 0.4035, -0.8398, -0.6404, -0.1402, -0.7999, -0.2887,  0.1102,  0.1142,\n         -0.0723,  0.2295],\n        [ 0.4865, -0.7103,  0.5456, -0.9891, -0.5754, -0.3103, -0.0683, -0.0714,\n         -0.3162,  0.3721],\n        [ 1.2179, -0.5061,  0.8460, -0.5230, -0.7727, -0.3274, -1.1703,  0.5671,\n         -0.3583, -0.3468],\n        [ 1.0495, -1.3829,  0.5534, -1.0013, -1.0468,  0.0102, -0.9806,  0.2201,\n         -0.3858,  0.3711],\n        [ 1.1242, -0.1555,  0.6890, -0.3688, -0.5746, -0.5806, -0.5338, -0.1332,\n         -0.6777, -0.1013],\n        [ 1.0337, -0.7523,  0.3452, -0.0611, -0.6793, -0.6008, -1.1378,  0.2364,\n         -0.4701,  0.1371],\n        [ 1.0413, -0.7046,  0.4839,  0.1980, -0.9823, -0.3668, -0.6543,  0.1065,\n         -0.5127,  0.0649],\n        [ 1.1236, -0.0087,  0.0060, -0.4694, -0.1651, -0.7047, -0.1424, -0.5008,\n          0.0969, -0.3431],\n        [ 1.0400, -0.6134,  0.7199, -0.3435, -0.5294, -0.3294, -0.7943,  0.1962,\n          0.0304, -0.1883]], grad_fn=<AddmmBackward>)"
     },
     "metadata": {},
     "execution_count": 20
    }
   ],
   "source": [
    "model(torch.rand((16, 1, 28, 28)))"
   ]
  }
 ],
 "metadata": {
  "language_info": {
   "codemirror_mode": {
    "name": "ipython",
    "version": 3
   },
   "file_extension": ".py",
   "mimetype": "text/x-python",
   "name": "python",
   "nbconvert_exporter": "python",
   "pygments_lexer": "ipython3",
   "version": "3.7.5-final"
  },
  "orig_nbformat": 2,
  "kernelspec": {
   "name": "python3",
   "display_name": "Python 3"
  }
 },
 "nbformat": 4,
 "nbformat_minor": 2
}