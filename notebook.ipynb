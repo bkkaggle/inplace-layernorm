{
 "cells": [
  {
   "cell_type": "code",
   "execution_count": 32,
   "metadata": {},
   "outputs": [],
   "source": [
    "import torch\n",
    "import torch.nn as nn\n",
    "import torch.nn.functional as F"
   ]
  },
  {
   "cell_type": "code",
   "execution_count": 63,
   "metadata": {},
   "outputs": [],
   "source": [
    "class ActivatedBatchNorm(torch.autograd.Function):\n",
    "\n",
    "    @staticmethod\n",
    "    def forward(ctx, x, gamma, beta):\n",
    "\n",
    "        mu = x.mean(dim=(0, 2, 3), keepdim=True)\n",
    "\n",
    "        xmu = x - mu\n",
    "        sq = xmu ** 2\n",
    "\n",
    "        var = sq.mean(dim=(0, 2, 3), keepdim=True)\n",
    "\n",
    "        sqrtvar = torch.sqrt(var + 1e-5)\n",
    "\n",
    "        ivar = 1.0 / sqrtvar\n",
    "\n",
    "        xhat = xmu * ivar\n",
    "\n",
    "        gammax = gamma * xhat\n",
    "\n",
    "        bn_out = gammax + beta\n",
    "\n",
    "        out = bn_out.clamp(min=0)\n",
    "\n",
    "        ctx.save_for_backward(xhat, gamma, xmu, ivar, sqrtvar, var, bn_out)\n",
    "\n",
    "        return out\n",
    "\n",
    "    @staticmethod\n",
    "    def backward(ctx, dout):\n",
    "        xhat, gamma, xmu, ivar, sqrtvar, var, bn_out = ctx.saved_tensors\n",
    "\n",
    "        dx = dgamma = dbeta = None\n",
    "\n",
    "        dout = dout * (bn_out > 0)\n",
    "\n",
    "        dbeta = dout.sum(dim=(0, 2, 3), keepdim=True)\n",
    "\n",
    "        dgammax = dout\n",
    "\n",
    "        dgamma = torch.sum(dgammax * xhat, dim=(0, 2, 3), keepdim=True)\n",
    "        dxhat = dgammax * gamma\n",
    "\n",
    "        divar = torch.sum(dxhat * xmu, dim=(0, 2, 3), keepdim=True)\n",
    "        dxmu1 = dxhat * ivar\n",
    "\n",
    "        dsqrtvar = -1.0 / (sqrtvar ** 2) * divar\n",
    "\n",
    "        dvar = 0.5 * 1.0 / torch.sqrt(var + 1e-5) * dsqrtvar\n",
    "\n",
    "        dsq = 1.0 / (dout.shape[0] * dout.shape[2] *\n",
    "                     dout.shape[3]) * torch.ones_like(dout) * dvar\n",
    "\n",
    "        dxmu2 = 2.0 * xmu * dsq\n",
    "\n",
    "        dx1 = dxmu1 + dxmu2\n",
    "        dmu = -1.0 * torch.sum(dxmu1 + dxmu2, dim=(0, 2, 3), keepdim=True)\n",
    "\n",
    "        dx2 = 1.0 / (dout.shape[0] * dout.shape[2] *\n",
    "                     dout.shape[3]) * torch.ones_like(dout) * dmu\n",
    "\n",
    "        dx = dx1 + dx2\n",
    "\n",
    "        return dx, dgamma, dbeta"
   ]
  },
  {
   "cell_type": "code",
   "execution_count": 64,
   "metadata": {},
   "outputs": [],
   "source": [
    "class ActivatedBatchNormAutograd(nn.Module):\n",
    "    def __init__(self, num_features):\n",
    "        super(ActivatedBatchNormAutograd, self).__init__()\n",
    "\n",
    "        shape = (1, num_features, 1, 1)\n",
    "\n",
    "        self.gamma = nn.Parameter(torch.ones(shape))\n",
    "        self.beta = nn.Parameter(torch.zeros(shape))\n",
    "\n",
    "        device = torch.device(\n",
    "            \"cuda:0\" if torch.cuda.is_available() else \"cpu\")\n",
    "\n",
    "        self.moving_mean = torch.zeros(shape, device=device)\n",
    "        self.moving_var = torch.zeros(shape, device=device)\n",
    "\n",
    "    def forward(self, x):\n",
    "        if not torch.is_grad_enabled():\n",
    "            out = (x - self.moving_mean) / torch.sqrt(self.moving_var + 1e-5)\n",
    "            out = self.gamma * out + self.beta\n",
    "        else:\n",
    "\n",
    "            out = ActivatedBatchNorm.apply(x, self.gamma, self.beta)\n",
    "\n",
    "            with torch.no_grad():\n",
    "                mean = x.mean(dim=(0, 2, 3), keepdim=True)\n",
    "                var = ((x - mean) ** 2).mean(dim=(0, 2, 3), keepdim=True)\n",
    "\n",
    "                self.moving_mean = 0.9 * self.moving_mean + (1 - 0.9) * mean\n",
    "                self.moving_var = 0.9 * self.moving_var + (1 - 0.9) * var\n",
    "\n",
    "        return out"
   ]
  },
  {
   "cell_type": "code",
   "execution_count": 65,
   "metadata": {},
   "outputs": [],
   "source": [
    "bn = ActivatedBatchNorm.apply"
   ]
  },
  {
   "cell_type": "code",
   "execution_count": 66,
   "metadata": {},
   "outputs": [],
   "source": [
    "x = torch.rand((1, 2, 4, 4), requires_grad=True)\n",
    "gamma = torch.ones((1, 2, 1, 1), requires_grad=True)\n",
    "beta = torch.zeros((1, 2, 1, 1), requires_grad=True)"
   ]
  },
  {
   "cell_type": "code",
   "execution_count": 67,
   "metadata": {
    "tags": []
   },
   "outputs": [],
   "source": [
    "out = bn(x, gamma, beta)"
   ]
  },
  {
   "cell_type": "code",
   "execution_count": 68,
   "metadata": {
    "tags": []
   },
   "outputs": [],
   "source": [
    "temp = out.sum()\n",
    "temp.backward()"
   ]
  },
  {
   "cell_type": "code",
   "execution_count": 69,
   "metadata": {},
   "outputs": [
    {
     "output_type": "execute_result",
     "data": {
      "text/plain": "(tensor(0.5061, grad_fn=<MeanBackward0>),\n tensor(0.0737, grad_fn=<VarBackward0>))"
     },
     "metadata": {},
     "execution_count": 69
    }
   ],
   "source": [
    "x.mean(), x.var()"
   ]
  },
  {
   "cell_type": "code",
   "execution_count": 70,
   "metadata": {},
   "outputs": [
    {
     "output_type": "execute_result",
     "data": {
      "text/plain": "(tensor(0.4203, grad_fn=<MeanBackward0>),\n tensor(0.3728, grad_fn=<VarBackward0>))"
     },
     "metadata": {},
     "execution_count": 70
    }
   ],
   "source": [
    "out.mean(), out.var()"
   ]
  },
  {
   "cell_type": "code",
   "execution_count": 71,
   "metadata": {
    "tags": []
   },
   "outputs": [
    {
     "output_type": "stream",
     "name": "stdout",
     "text": "True\n"
    }
   ],
   "source": [
    "from torch.autograd import gradcheck\n",
    "\n",
    "x = torch.rand((1, 2, 4, 4), dtype=torch.double, requires_grad=True)\n",
    "gamma = torch.ones((1, 2, 1, 1), dtype=torch.double, requires_grad=True)\n",
    "beta = torch.zeros((1, 2, 1, 1), dtype=torch.double, requires_grad=True)\n",
    "\n",
    "input = (x, gamma, beta)\n",
    "test = gradcheck(bn, input, eps=1e-6, atol=1e-4)\n",
    "print(test)"
   ]
  },
  {
   "cell_type": "code",
   "execution_count": 72,
   "metadata": {},
   "outputs": [],
   "source": [
    "mod = ActivatedBatchNormAutograd(2)"
   ]
  },
  {
   "cell_type": "code",
   "execution_count": 73,
   "metadata": {},
   "outputs": [],
   "source": [
    "x = torch.rand((1, 2, 4, 4), dtype=torch.double, requires_grad=True)"
   ]
  },
  {
   "cell_type": "code",
   "execution_count": 74,
   "metadata": {},
   "outputs": [],
   "source": [
    "out = mod(x)"
   ]
  },
  {
   "cell_type": "code",
   "execution_count": 75,
   "metadata": {},
   "outputs": [
    {
     "output_type": "execute_result",
     "data": {
      "text/plain": "(tensor(0.4406, dtype=torch.float64, grad_fn=<MeanBackward0>),\n tensor(0.3589, dtype=torch.float64, grad_fn=<VarBackward0>))"
     },
     "metadata": {},
     "execution_count": 75
    }
   ],
   "source": [
    "out.mean(), out.var()"
   ]
  },
  {
   "cell_type": "code",
   "execution_count": null,
   "metadata": {},
   "outputs": [],
   "source": []
  }
 ],
 "metadata": {
  "language_info": {
   "codemirror_mode": {
    "name": "ipython",
    "version": 3
   },
   "file_extension": ".py",
   "mimetype": "text/x-python",
   "name": "python",
   "nbconvert_exporter": "python",
   "pygments_lexer": "ipython3",
   "version": "3.7.5-final"
  },
  "orig_nbformat": 2,
  "kernelspec": {
   "name": "python3",
   "display_name": "Python 3"
  }
 },
 "nbformat": 4,
 "nbformat_minor": 2
}